{
 "cells": [
  {
   "cell_type": "markdown",
   "id": "7483b4b7",
   "metadata": {},
   "source": [
    "### ¿Qué es el análisis de datos?\n",
    "\n",
    "\n"
   ]
  },
  {
   "cell_type": "markdown",
   "id": "ddd33e62",
   "metadata": {},
   "source": [
    "Proceso de inspeccion, limpieza, transformación y modelado de datos para decisiones empresariales. Un analista de datos trabaja con cualquiera de estos procesos o con todos ellos. El trabajo de estos resulta diverso, trabajan con datos que se presentan de forma muy diversa. \n",
    "\n",
    "Generalmente, trabajan con filas de bases de datos, hjoas de calculo o archivos csv. Un gráfico vale más que mil lineas. Un buen analista de datos debe ser capaz de crear una excelente visualización de datos. \n",
    "\n",
    "Por qué son necesarios? \n",
    "\n",
    "Cada día hay mas datos, hay nuevos estilos, origenes de datos, tipos de datos, incluyendo dispositivos electronicos que almacenan y generan información. Se necesitan más personas con habilidades analíticas profundas. Se necesitan analistas con formación que puedan generar trabajo de calidad y eficiente. "
   ]
  },
  {
   "cell_type": "markdown",
   "id": "4696651f",
   "metadata": {},
   "source": [
    "#### ¿Eres un analista?\n",
    "\n",
    "Muchas personas manejan datos todos los días. Pero los analistas son aquellos capaces de visualizar datos, anticipar patrones, informar de acuerdo a los datos.\n",
    "\n",
    "Los datos regularmente requieren limpieza de datos, la limpieza de datos es una aprte activa en la mayoría de los proyectos de análisis de datos. Esto no significa cambiar valores, sino remodelarlos, orden resultados, agregar cálculos para nutrir el modelo, eliminar columnas o filas innecesarias. \n",
    "\n",
    "La visualización de datos le sirve al analista con dos propósitos: \n",
    "\n",
    "               - Mostrar de forma inmediata y visual al analista, los problemas existentes en los datos.\n",
    "        - a las organizaciones peude ofrecer mejores formas de interpretar o visualizar los datos (gráficos o herramientas de visualización)\n",
    "         \n",
    "         "
   ]
  },
  {
   "cell_type": "markdown",
   "id": "7bc33b79",
   "metadata": {},
   "source": [
    "La ciencia de datos tiene una amplia definición. Los datos, herramientas, y habilidad requeridad están en constant evolución. Hay una escacez de personas dedicandose a la ciencia de datos, pues usualmente se descalifican automáticamente al sentirse no aptos para el análsis.\n",
    "\n",
    "Es importante definir las bases necesarias para ser analista de datos o bien, si no son las habilidades requeridas, un científico de datos. \n",
    "\n",
    "Un analista es una pieza fundamental para cualqueir equipo por muy multidiciplinario que sea. A veces, estos trabajan de forma independiente. El equipo usualmente comparte habilidades comunes entre sí. Un buen equipo trabaja de forma coordinada hacia el mismo objetivo. "
   ]
  },
  {
   "cell_type": "markdown",
   "id": "56704275",
   "metadata": {},
   "source": [
    "¿Cómo se definen los datos?\n",
    "\n",
    "Los roles en la ciencia de la información son grandes y pequeños, además de que hay roles que aun no existen. A medida que la tecnología se desarrolla, los datos continuan creciendo por tanto la oferta y demanda continuan aumentando y por esto lo roles se cmantinen en constante cambio. \n",
    "\n",
    "Algunos de los roles que podemos encontrar son: Análisis de datos, Investigación, Gobierno de datos, ciencia de datos y gestión de proyectos.\n",
    "\n",
    "Las herramientas con las que se trabaja la ciencia de datos están en constante cambio también, mejorando. Como parte de ese desarrollo se crean nuevas, para tratar de forma más eficiente a los datos. De acuerdo al tamaño de los datos, se determina la herramienta que se va a usar. De igual forma, de acuerdo de la función a realizar por el analista, así mismo serán las habilidades que este requiera poseer.\n",
    "\n",
    "No hay una lista de habilidades que debe tener un analista, sin emabrgo, es necesario saber minería de datos, consultas a orígenes de datos, modelar datos, entender diagramas de flujo de trabajo y dominar las técnicas de la visualización de datos. "
   ]
  },
  {
   "cell_type": "markdown",
   "id": "3ea71181",
   "metadata": {},
   "source": [
    "### Aprender a identificar los datos.\n",
    "\n",
    "Es una habilidad fundamental si se trabaja con ellos. Los datos se encuentran en todas partes, es importante saber destacar atributos de objetos que no necesariamente poseen etiquetas. Cualquier objeto es categorizable, por lo tanto, sus datos pueden contenerse y analizarse.  \n",
    "\n",
    "¿Cómo se ven?\n",
    "Una persona con pensamiento no analítico piensa en valores al ver datos, un analista de datos piensa en tipos de datos, campos y valores. El tipo de datos define la estructura que tienen los valores que se almacenan en una matriz de datos. \n",
    "\n",
    "Los tipos de datos también definen acciones que se pueden realizar con valores de datos. Los tipos de datos más comunes son: \n",
    "\n",
    "Texto o cadenas de texto\n",
    "Fecha, fecha y hora\n",
    "Número\n",
    "Booleanos\n",
    "\n",
    "Es importante profundizar en los datos para ubicar de forma correcta registros. Las estructuras de registro generan flexibilidad al momento de trabajar con datos. \n",
    "\n",
    "¿Qué pasa cuando hay datos faltantes? \n",
    "\n",
    "En un mundo ideal, todos los datos están completos y se encuentran bien alamcenados y organizados. Sin embargo, es cierto que la mayoría de las veces tendremos que saber decidir cuando estemos ante una situación de datos faltantes. La recomendación de la profesora es tratar de completar los datos de acuerdo a su naturaleza, concatenar cadenas o respuestas binarias. \n",
    "\n",
    "También se puede analizar la fuente de donde provienen los datos, para condicionar algunos faltantes. También es importante saber que los datos no siempre se almacenan en la forma que los necesitamos, por tanto, es necesario aprender a convertir los datos en otro tipo de datos. Casi siempre es posible convertir datos almacenados. "
   ]
  },
  {
   "cell_type": "markdown",
   "id": "9b7bc05d",
   "metadata": {},
   "source": [
    "Sintaxis:\n",
    "\n",
    "Utilizamos el lenguaje para comunicar, la sitaxis nos permite comunicar lo que queremos lograr con un programa, es importante dar instrucciones precisas a la computadora o software con el que trabajemos. Cada programa tiene su propio lenguaje e igual al software, se encentra en contstante evolución. \n",
    "\n",
    "En el curso vimos un video donde la profesora señala cómo organizar una fecha, inicia demostrando el comando ( , + crtrl ) para vaciar en la celda la fecha de hoy, en ventana formulas, inserta función y busca la categoría de fecha, determina los argumentos de la función y nos da el ejemplo de cómo respetar la sitaxis de una fórmula. También aprendi que dando F2 en una celda nos sirve para ver la sintaxis de esa fórmula. \n",
    "\n",
    "Aprendimos también cómo crear una columna condicional en PoweBI, donde nos presentan una base de datos de emplados que realizaron cursos, queremos simplificar esta ifnromación interpretando aquellas celdas vacías de aquellos que no hicieron cursos. También aprendimos a combinar columnas, en este caso teníamos separados los nombres de los apellidos, generamos una nueva desde la ventana transformar - columna de texto - combinar columnas, indicamos separados y colocamos el nuevo nombre de la columna generada. Finalmente aprendimos a agregar una columna que sirve como contador entre la fecha señalada en la columna y el día de hoy, de forma que nos vamos a agregar columna - fecha - antiguedad y simplemente modificamos la duración para unicamente llevar el conteo de los días.\n",
    "\n",
    "Estos ejemplos los realizamos con el propósito de entender que a pesar de no tener algunos datos, es posible generarlos, simplemente debemos ser cuidados y mirar \"con lupa\" los datos a nuestro alcance."
   ]
  },
  {
   "cell_type": "markdown",
   "id": "f4529b76",
   "metadata": {},
   "source": [
    "#### Cosas que hay que entender al inciar el análisis de datos:\n",
    "\n",
    "La profesora da un ejemplo con la receta de un alimento. Sabemos tal vez qué vamos a preparar, pero es necesario conocer la lista de ingredientes necesarios, distinguir aquellos que ya tenemos, de los que no tenemos. En el ejemplo se abre una hoja en blanco de word para anotar en forma de lista los campos que tenemos y aquellos que tenemos que conseguir. \n",
    "\n",
    "Esta habilidad es crítica para un analista de datos. La profesora recomienda trabajar hacia atrás, ya que para la mayoría de los casos, el dato que buscamos, ya existe. Todo proviene de un lugar, por lo tanto es importante ubicar el origen de los datos para encontrar otros. Usamos un ejemplo en donde abrimos un archivo de Access con una base de datos que compartía semejanzas con otro archivo de excel, para trabajarlos juntos, únicamente vimos la dependencia de estos datos y exportamos este conjunto de datos a un formato de excel.  \n",
    "\n",
    "Como analista de datos, vamos a trabajar con datos que se almacenan en tablas, estas se relacionan y se unen. Creamos estas combinaciones para vincuar datos de dos o más tablas y en una base de datos relacional, estas uniones se proporcionan cuando se hace una consulta y abrimos esas tablas.\n",
    "\n",
    "Las formas para crear una unión difieren entre una herramienta a otra, las más comunes son:\n",
    "\n",
    "-Uniones internas (INNER JOIN): Para un ejemplo en donde queramos ver la información de los empleados y sus gerentes, se puede hacer la union inner join, pues nos dará una lista completa de los datos de los gerentes.\n",
    "-Uniones externas (OUTER JOIN): En el caso dee un Left Join o Left Outer Join, nos permitirá ver a todos los empleados (tabla izquierda) y la información correspondiente para cada gerente, ya que lo que busca es una coincidencia con la tabla donde están los gerentes (tabla derecha), de forma que aquellos empleados que no tengan coincidencias, arrojarán un valor null en la tabla de gerentes. "
   ]
  },
  {
   "cell_type": "markdown",
   "id": "c0f25463",
   "metadata": {},
   "source": [
    "#### ¿Qué es el flujo de trabajo? \n",
    "\n",
    "Los diagramas de flujo de trabajo te llevan paso a paso a traves de un proceso, te ayuda a visualizar como funciona un proceso e indican el siguiente paso del proceso. Estos ayudan a encontrar datos dentro de un proceso.\n",
    "\n",
    "Un flujo de trabajo bien documentado nos permite ser más efectivos, sin ellos es facil omitir un paso, un diagrama puede ayudar a todos a trabajar con precisión hasta el final. \n",
    "\n",
    "Apreciamos un ejemplo en donde podemos definir un flujo de trabajo, pero sobre la marcha es posible que surjan nuevas preguntas, por tanto, si tenemos un esquema en forma de diagrama, es facil ubicar estos puntos de partida sobre los cuales debemos antender. \n",
    "\n",
    "#### Calidad de datos: \n",
    "\n",
    "Limpiar datos significa estandarizarlos, eliminar aquellos datos irrelevantes para el informe y corregir valores inconsistentes. Es importante tener un conjunto de datos de alta calidad."
   ]
  },
  {
   "cell_type": "markdown",
   "id": "54d2559e",
   "metadata": {},
   "source": [
    "### Empezar un proyecto de datos.\n",
    "\n",
    "#### Mantener las mejores prácticas: \n",
    "Es muy importante en cualquier proyecto de datos, el seguir las mejores prácticas que aprendas, pues las conjeturas pueden ser muy peligrosos al tratar con datos. Siempre es bueno examinar, y verificar los datos antes de publicarlos. Es importante no perder el objetivo de las reuniones, siguiedo agenda o programa. Es importante tomar muchas notas, notas, notas y preguntas de seguimiento en una reunion. \n",
    "\n",
    "Si el proceso de vuelve complicado, hay que compilar información de respaldo. También debemos estar en constante capacitación y actualización al equipo, para reforzar sus habilidades individuales.\n",
    "\n",
    "Gobierno de datos: Existe en industrias reguladas, las organizaciones tiene plan de datos que tienen sus propios controles, los cuales atraviesan regulaciones. El mayor beneficio de un pland e gobierno de datos, es la calidad de los datos, ya que se garantiza tener datos de calidad, seguros e íntegros.\n",
    "\n",
    "En una empresa más pequeña, no existen estos planes de gobierno de datos, sin embargo, estos datos están siendo gobernados. Un diccionario de datos es necesario para garantizar cumplimiento.\n",
    "\n",
    "#### Entender verdades y certezas: \n",
    "Los datos tienen multiples verdades, dificiles de aceptar cuando pensamos de forma booleana. La verdad de los datos puede verse afectado por las reglas de un negocio. Bases faltantes pueden llevar a resultados impresisos. La verdad de los datos está sesgada también por la forma en que se combinaron, es por esto que las uniones son muy importantes. La verdad de los datos y la verdad estadística informan la verdad de un negocio. Su verdad les informa sobre los mejores procesos, les brinda la posibilidad de ver o crear los indicadores claves de rendimeinto o KPI's, luego se peuden desarrollar medidas para mejorar los resultados. Como analista, debemos conocer todas las verdades.\n",
    "\n",
    "#### Descubrir errores comunes. \n",
    "La inexperiencia es la culpable de los errores más comunes. \n",
    "Un error muy común es asumir que reunir datos es sencillo, lo cual no sabemos hasta que nos sumergimos en los datos. \n",
    "La gente intenta hacer la menor cantidad de preguntas posible por miedo a mostrarse inexpertos.\n",
    "Hay que corroborar las cifras, siempre. El hecho de que estén los números, no significa que estén correctos. \n",
    "Hay que dominar las herramientas de trabajo, no tener idea clara de las herramientas fundamentales, peude perjudicar la capacidad de una analista. \n",
    "Otro error es no solicitar el diccionario de datos. \n",
    "No asumir nada en los datos, cada persona puede leerlos de forma diferente.\n",
    "Hay que dominar las técnicas para crear uniones, hasta que no se dominen los temas de la improtancia de establecer la uniones, debemos continuar aprendiendo. Las uniones son muy muy muy importantes. \n",
    "\n",
    "Todos cometemos errores, al hablar de datos debemos ser precisos ya que sobre los resultados se toman las decisiones. Hay que conocer estos errores de prncipiante para poder evitarlos. "
   ]
  },
  {
   "cell_type": "markdown",
   "id": "16f9e5b9",
   "metadata": {},
   "source": [
    "#### Reutilizar los datos / remanufacturar datos: \n",
    "\n",
    "Un buen conjunto de datos se reutiliza y no se reconstruye cada vez. Debemos mantenernos actualizados con el conjunto de datos, ya que muchas veces tendremos que convertir e interpretar el tipo de datos. \n",
    "\n",
    "La profesora recomienda no contar con el mail como fuente de datos, recomienda usar una carpeta dedicada al archivo que podramos reutilizar, también recomienda mantener una copia original del archivo base. \n",
    "\n",
    "Los datos serán más fiables mientras menos distanciados estén del origen, es importante entender que el origen es donde viven los datos y donde inician. Es importante saber identificar los conjuntos de datos de origen, determinar la mejor fuente para los datos y ser capaces de crear informes a partir de propias fuentes.\n",
    "\n",
    "Hicimos un ejemplo práctica con powerBI donde la profesora da una lsita de fechas propuestas y nos enseña a complementarlo, de forma que agrega columnas para fecha, semana y día de dicha fecha. "
   ]
  },
  {
   "cell_type": "markdown",
   "id": "22325752",
   "metadata": {},
   "source": [
    "### curso scrum, soylider\n",
    "\n",
    "Por qué agilidad? Ser agil es la capacidad de equilibrar la flexibilidad y la estabilidad. Ser agil significa adaptarse al cambio, ser capaz de hacer frente a los cambios. \n",
    "\n",
    "Se buscar reducir el tiempo de mercadeo, de los productos y el aumento de la innovación por parte del cliente. Agil no restringe al desarrollo de software, puede ser usado en cualquier proyecto. \n",
    "\n",
    "Los principios de Scrum: Scrum son las reglas del juego, los principios de scrum son las pautas básicas para aplicar el marco de scrum y obligatoriamente deben usarse en todos los proyectos de scrum. \n",
    "\n",
    "Principio 1: Control de proceso empírico: Cuando todos hacemos visible todo, "
   ]
  },
  {
   "cell_type": "code",
   "execution_count": null,
   "id": "9ce97dd3",
   "metadata": {},
   "outputs": [],
   "source": []
  },
  {
   "cell_type": "code",
   "execution_count": null,
   "id": "bc88666a",
   "metadata": {},
   "outputs": [],
   "source": []
  },
  {
   "cell_type": "code",
   "execution_count": null,
   "id": "e0e7e748",
   "metadata": {},
   "outputs": [],
   "source": []
  },
  {
   "cell_type": "code",
   "execution_count": null,
   "id": "889f3a27",
   "metadata": {},
   "outputs": [],
   "source": []
  }
 ],
 "metadata": {
  "kernelspec": {
   "display_name": "Python 3 (ipykernel)",
   "language": "python",
   "name": "python3"
  },
  "language_info": {
   "codemirror_mode": {
    "name": "ipython",
    "version": 3
   },
   "file_extension": ".py",
   "mimetype": "text/x-python",
   "name": "python",
   "nbconvert_exporter": "python",
   "pygments_lexer": "ipython3",
   "version": "3.10.9"
  }
 },
 "nbformat": 4,
 "nbformat_minor": 5
}
