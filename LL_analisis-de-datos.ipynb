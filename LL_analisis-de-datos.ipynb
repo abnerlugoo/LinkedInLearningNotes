{
 "cells": [
  {
   "cell_type": "markdown",
   "id": "24184a53",
   "metadata": {},
   "source": [
    "#### Qué es el análisis de datos?\n",
    "\n",
    "\n"
   ]
  },
  {
   "cell_type": "markdown",
   "id": "fc4e1bad",
   "metadata": {},
   "source": [
    "Proceso de inspeccion, limpieza, transformación y modelado de datos para decisiones empresariales. Un analista de datos trabaja con cualquiera de estos procesos o con todos ellos. El trabajo de estos resulta diverso, trabajan con datos que se presentan de forma muy diversa. \n",
    "\n",
    "Generalmente, trabajan con filas de bases de datos, hjoas de calculo o archivos csv. Un gráfico vale más que mil lineas. Un buen analista de datos debe ser capaz de crear una excelente visualización de datos. \n",
    "\n",
    "Por qué son necesarios? \n",
    "\n",
    "Cada día hay mas datos, hay nuevos estilos, origenes de datos, tipos de datos, incluyendo dispositivos electronicos que almacenan y generan información. Se necesitan más personas con habilidades analíticas profundas. Se necesitan analistas con formación que puedan generar trabajo de calidad y eficiente. "
   ]
  },
  {
   "cell_type": "markdown",
   "id": "31ab9045",
   "metadata": {},
   "source": [
    "#### ¿Eres un analista?\n",
    "\n",
    "Muchas personas manejan datos todos los días. Pero los analistas son aquellos capaces de visualizar datos, anticipar patrones, informar de acuerdo a los datos.\n",
    "\n",
    "Los datos regularmente requieren limpieza de datos, la limpieza de datos es una aprte activa en la mayoría de los proyectos de análisis de datos. Esto no significa cambiar valores, sino remodelarlos, orden resultados, agregar cálculos para nutrir el modelo, eliminar columnas o filas innecesarias. \n",
    "\n",
    "La visualización de datos le sirve al analista con dos propósitos: \n",
    "\n",
    "               - Mostrar de forma inmediata y visual al analista, los problemas existentes en los datos.\n",
    "        - a las organizaciones peude ofrecer mejores formas de interpretar o visualizar los datos (gráficos o herramientas de visualización)\n",
    "         \n",
    "         "
   ]
  },
  {
   "cell_type": "markdown",
   "id": "db5447ff",
   "metadata": {},
   "source": [
    "La ciencia de datos tiene una amplia definición. Los datos, herramientas, y habilidad requeridad están en constant evolución. Hay una escacez de personas dedicandose a la ciencia de datos, pues usualmente se descalifican automáticamente al sentirse no aptos para el análsis.\n",
    "\n",
    "Es importante definir las bases necesarias para ser analista de datos o bien, si no son las habilidades requeridas, un científico de datos. \n",
    "\n",
    "Un analista es una pieza fundamental para cualqueir equipo por muy multidiciplinario que sea. A veces, estos trabajan de forma independiente. El equipo usualmente comparte habilidades comunes entre sí. Un buen equipo trabaja de forma coordinada hacia el mismo objetivo. "
   ]
  },
  {
   "cell_type": "markdown",
   "id": "0a63c8ba",
   "metadata": {},
   "source": [
    "¿Cómo se definen los datos?\n",
    "\n",
    "Los roles en la ciencia de la información son grandes y pequeños, además de que hay roles que aun no existen. A medida que la tecnología se desarrolla, los datos continuan creciendo por tanto la oferta y demanda continuan aumentando y por esto lo roles se cmantinen en constante cambio. \n",
    "\n",
    "Algunos de los roles que podemos encontrar son: Análisis de datos, Investigación, Gobierno de datos, ciencia de datos y gestión de proyectos.\n",
    "\n",
    "Las herramientas con las que se trabaja la ciencia de datos están en constante cambio también, mejorando. Como parte de ese desarrollo se crean nuevas, para tratar de forma más eficiente a los datos. De acuerdo al tamaño de los datos, se determina la herramienta que se va a usar. De igual forma, de acuerdo de la función a realizar por el analista, así mismo serán las habilidades que este requiera poseer.\n",
    "\n",
    "No hay una lista de habilidades que debe tener un analista, sin emabrgo, es necesario saber minería de datos, consultas a orígenes de datos, modelar datos, entender diagramas de flujo de trabajo y dominar las técnicas de la visualización de datos. "
   ]
  },
  {
   "cell_type": "markdown",
   "id": "cdebe598",
   "metadata": {},
   "source": [
    "#### Aprender a identificar los datos.\n",
    "\n",
    "Es una habilidad fundamental si se trabaja con ellos. Los datos se encuentran en todas partes, es importante saber destacar atributos de objetos que no necesariamente poseen etiquetas. Cualquier objeto es categorizable, por lo tanto, sus datos pueden contenerse y analizarse.  \n",
    "\n",
    "¿Cómo se ven?\n",
    "Una persona con pensamiento no analítico piensa en valores al ver datos, un analista de datos piensa en tipos de datos, campos y valores. El tipo de datos define la estructura que tienen los valores que se almacenan en una matriz de datos. \n",
    "\n",
    "Los tipos de datos también definen acciones que se pueden realizar con valores de datos. Los tipos de datos más comunes son: \n",
    "\n",
    "Texto o cadenas de texto\n",
    "Fecha, fecha y hora\n",
    "Número\n",
    "Booleanos\n",
    "\n",
    "Es importante profundizar en los datos para ubicar de forma correcta registros. Las estructuras de registro generan flexibilidad al momento de trabajar con datos. \n",
    "\n",
    "¿Qué pasa cuando hay datos faltantes? \n",
    "\n",
    "En un mundo ideal, todos los datos están completos y se encuentran bien alamcenados y organizados. Sin embargo, es cierto que la mayoría de las veces tendremos que saber decidir cuando estemos ante una situación de datos faltantes. La recomendación de la profesora es tratar de completar los datos de acuerdo a su naturaleza, concatenar cadenas o respuestas binarias. \n",
    "\n",
    "También se puede analizar la fuente de donde provienen los datos, para condicionar algunos faltantes. También es importante saber que los datos no siempre se almacenan en la forma que los necesitamos, por tanto, es necesario aprender a convertir los datos en otro tipo de datos. Casi siempre es posible convertir datos almacenados. "
   ]
  },
  {
   "cell_type": "markdown",
   "id": "e56e2f27",
   "metadata": {},
   "source": [
    "Sintaxis:\n",
    "\n",
    "Utilizamos el lenguaje para comunicar, la sitaxis nos permite comunicar lo que queremos lograr con un programa, es importante dar instrucciones precisas a la computadora o software con el que trabajemos. Cada programa tiene su propio lenguaje e igual al software, se encentra en contstante evolución. \n",
    "\n",
    "En el curso vimos un video donde la profesora señala cómo organizar una fecha, inicia demostrando el comando ( , + crtrl ) para vaciar en la celda la fecha de hoy, en ventana formulas, inserta función y busca la categoría de fecha, determina los argumentos de la función y nos da el ejemplo de cómo respetar la sitaxis de una fórmula. También aprendi que dando F2 en una celda nos sirve para ver la sintaxis de esa fórmula. \n",
    "\n"
   ]
  }
 ],
 "metadata": {
  "kernelspec": {
   "display_name": "Python 3 (ipykernel)",
   "language": "python",
   "name": "python3"
  },
  "language_info": {
   "codemirror_mode": {
    "name": "ipython",
    "version": 3
   },
   "file_extension": ".py",
   "mimetype": "text/x-python",
   "name": "python",
   "nbconvert_exporter": "python",
   "pygments_lexer": "ipython3",
   "version": "3.10.9"
  }
 },
 "nbformat": 4,
 "nbformat_minor": 5
}
