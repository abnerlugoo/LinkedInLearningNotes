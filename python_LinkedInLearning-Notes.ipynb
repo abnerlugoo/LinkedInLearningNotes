{
 "cells": [
  {
   "cell_type": "markdown",
   "id": "1f8fd50a",
   "metadata": {},
   "source": [
    "### Ejercicios realizados para el curso de python por LL"
   ]
  },
  {
   "cell_type": "code",
   "execution_count": 28,
   "id": "829343fe",
   "metadata": {},
   "outputs": [
    {
     "name": "stdout",
     "output_type": "stream",
     "text": [
      "Ingresa una palabra o frase: aja\n",
      "True\n"
     ]
    }
   ],
   "source": [
    "## programa que regresa un booleano si una cadena es palíndromo o no\n",
    "\n",
    "texto = str(input('Ingresa una palabra o frase: '))\n",
    "\n",
    "texto_en_minusculas = texto.lower() #aplicamos lower para tener todo el texto en minusculas\n",
    "texto_sin_espacios = texto_en_minusculas.replace(\" \", \"\")\n",
    "\n",
    "if texto_sin_espacios == texto_sin_espacios[::-1]:\n",
    "    print('True')\n",
    "else:\n",
    "    print('False')"
   ]
  },
  {
   "cell_type": "code",
   "execution_count": 33,
   "id": "100b410e",
   "metadata": {},
   "outputs": [
    {
     "name": "stdout",
     "output_type": "stream",
     "text": [
      "False\n",
      "True\n"
     ]
    }
   ],
   "source": [
    "## ahora en función, como lo proponen en el curso:\n",
    "\n",
    "def palindromo(texto):\n",
    "    minus = texto.lower()\n",
    "    sinespacio = minus.replace(\" \" , \"\")\n",
    "    \n",
    "    return sinespacio == sinespacio[::-1]\n",
    "    \n",
    "print(palindromo(\"hola amigos de todo el mundo\"))\n",
    "print(palindromo(\"anita lava la tina\"))"
   ]
  },
  {
   "cell_type": "code",
   "execution_count": 59,
   "id": "e47c7719",
   "metadata": {},
   "outputs": [
    {
     "name": "stdout",
     "output_type": "stream",
     "text": [
      "a\n",
      "None\n"
     ]
    }
   ],
   "source": [
    "## funcion que arroja la primera letra de una linea de caracteres si se repite y None si no se repite:\n",
    "\n",
    "def repetida(texto):\n",
    "\n",
    "    texto_min = texto.lower()\n",
    "    texto_sin = texto_min.replace(\" \" , \"\")\n",
    "    lista = []\n",
    "\n",
    "    for letra in texto_sin:\n",
    "        if letra in lista:\n",
    "            return letra\n",
    "        else:\n",
    "            lista.append(letra)\n",
    "    return None\n",
    "\n",
    "print(repetida(\"saltar\"))  \n",
    "print(repetida(\"me gusta\"))   "
   ]
  },
  {
   "cell_type": "code",
   "execution_count": 71,
   "id": "5caf6d3e",
   "metadata": {},
   "outputs": [
    {
     "name": "stdout",
     "output_type": "stream",
     "text": [
      "Ingresa hora: 5:27 pm\n",
      "La hora en formato 24 horas es: 17:27 \n"
     ]
    }
   ],
   "source": [
    "hora = input('Ingresa hora: ')\n",
    "def convertir_horario(hora):\n",
    "\n",
    "    hora_lista = hora.split(\":\")\n",
    "    if hora[-2:].lower() == \"pm\":\n",
    "        if hora_lista[0] != \"12\":\n",
    "            hora_lista[0] = str(int(hora_lista[0]) + 12)\n",
    "    else:\n",
    "        if hora_lista[0] == \"12\":\n",
    "            hora_lista[0] = \"00\"\n",
    "\n",
    "    hora_convertida = \":\".join(hora_lista) #se usa join para unir los elementos de la lista\n",
    "\n",
    "    return hora_convertida[:-2]\n",
    "\n",
    "print(f'La hora en formato 24 horas es: {convertir_horario(hora)}') \n"
   ]
  },
  {
   "cell_type": "code",
   "execution_count": 1,
   "id": "3a0d2863",
   "metadata": {},
   "outputs": [
    {
     "name": "stdout",
     "output_type": "stream",
     "text": [
      "Numero de miembros en la familia: 5\n",
      "Ingresa el 1° nombre: Rogelio\n",
      "Ingresa el 2° nombre: Leticia\n",
      "Ingresa el 3° nombre: Lizbeth\n",
      "Ingresa el 4° nombre: Kassandra\n",
      "Ingresa el 5° nombre: Vanessa\n",
      "Rogelio y luego Leticia y luego Lizbeth y luego Kassandra y luego Vanessa\n"
     ]
    }
   ],
   "source": [
    "n = int(input('Numero de miembros en la familia: '))\n",
    "f = 0\n",
    "l = []\n",
    "for a in range(n):\n",
    "    f = f + 1\n",
    "    a = str(input(f'Ingresa el {f}° nombre: '))\n",
    "    l.append(a)\n",
    "\n",
    "union = \" y luego \".join(l)\n",
    "print(union)"
   ]
  },
  {
   "cell_type": "code",
   "execution_count": 10,
   "id": "d99c62d2",
   "metadata": {},
   "outputs": [
    {
     "name": "stdout",
     "output_type": "stream",
     "text": [
      "Ingresa la primer palabra: coral\n",
      "Ingresa la segunda palabra: calor\n",
      "son anagramas\n"
     ]
    }
   ],
   "source": [
    "## programa que determina si dos palabras son anagramas:\n",
    "\n",
    "a = str(input('Ingresa la primer palabra: '))\n",
    "b = str(input('Ingresa la segunda palabra: '))\n",
    "\n",
    "pal1 = a.replace(\" \" , \"\").lower()\n",
    "pal2 = b.replace(\" \" , \"\").lower()\n",
    "aa = sorted(pal1)\n",
    "bb = sorted(pal2)\n",
    "    \n",
    "if aa == bb:\n",
    "    print('son anagramas')\n",
    "else:\n",
    "    print('no son anagramas')"
   ]
  },
  {
   "cell_type": "code",
   "execution_count": 15,
   "id": "ecb86269",
   "metadata": {},
   "outputs": [
    {
     "name": "stdout",
     "output_type": "stream",
     "text": [
      "Ingresa la primer palabra: anagrama\n",
      "Ingresa la segunda palabra: amagrana\n",
      "True\n"
     ]
    }
   ],
   "source": [
    "## ahora en función:\n",
    "\n",
    "def anagrama(a,b):\n",
    "    pal1 = a.replace(\" \" , \"\").lower()\n",
    "    pal2 = b.replace(\" \" , \"\").lower()\n",
    "    aa = sorted(pal1) #\n",
    "    bb = sorted(pal2)\n",
    "    \n",
    "    return aa == bb\n",
    "\n",
    "a = str(input('Ingresa la primer palabra: '))\n",
    "b = str(input('Ingresa la segunda palabra: '))\n",
    "\n",
    "print(anagrama(a,b))"
   ]
  },
  {
   "cell_type": "code",
   "execution_count": 21,
   "id": "d3a8a005",
   "metadata": {},
   "outputs": [
    {
     "name": "stdout",
     "output_type": "stream",
     "text": [
      "ingresa una cadena de texto: algunas personas\n",
      "  a menos que a a menos que a a menos que a a menos que e a menos que g a menos que l a menos que n a menos que n a menos que o a menos que p a menos que r a menos que s a menos que s a menos que s a menos que u\n"
     ]
    }
   ],
   "source": [
    "## lineas solo para jugar con sorted y practicar el .join:\n",
    "\n",
    "name = str(input('ingresa una cadena de texto: '))\n",
    "ns = sorted(name)\n",
    "\n",
    "u = \" a menos que \".join(ns)\n",
    "print(u)"
   ]
  },
  {
   "cell_type": "code",
   "execution_count": 25,
   "id": "06dfecbc",
   "metadata": {},
   "outputs": [
    {
     "name": "stdout",
     "output_type": "stream",
     "text": [
      "texto$-con-caracte$-especial-es\n"
     ]
    }
   ],
   "source": [
    "## slug es la parte de una url que usa palabres clave usa caracteres alfanumericos y guiones en lugar de espacios\n",
    "\n",
    "##vamos a hacer una funcion que reciba una cadena de texto y retorne el slug, se deben remover caracterres que no\n",
    "## sean alfanumericos y reemplazar guiones por los espacios\n",
    "\n",
    "import re\n",
    "\n",
    "def slugify(texto):\n",
    "    slug = (texto\n",
    "        .lower()\n",
    "        .strip()\n",
    "        .replace(\" \" , \"-\")\n",
    "           )\n",
    "    slug = re.sub(\"[^\\w\\-\\$]\" , \"\" , slug) #los [] indican que todo lo que dentro se va a juzgar, ^ dentro del conjunto \n",
    "                                        ## indica negación, y \\w a todos los caracteres que no son alfanumericos\n",
    "                                        ## el \\- se usa para omitir los guiones de esa sekeccion, en este ejemplo deje el $ para\n",
    "                                        ## ver como los filtra \n",
    "    return slug\n",
    "\n",
    "\n",
    "print(slugify(\"texto$ con caracte$& especial-es\"))"
   ]
  },
  {
   "cell_type": "code",
   "execution_count": 32,
   "id": "d97a0fd5",
   "metadata": {},
   "outputs": [
    {
     "name": "stdout",
     "output_type": "stream",
     "text": [
      "False\n"
     ]
    }
   ],
   "source": [
    "## función que revisa cadena de texto que solo contiene parentesis:\n",
    "\n",
    "def parentesis(tex):\n",
    "    c = 0\n",
    "    for letra in tex:\n",
    "        if letra == '(':\n",
    "            c += 1\n",
    "        elif letra == ')':\n",
    "            c -= 1\n",
    "            \n",
    "            if c != 0:\n",
    "                return False\n",
    "    return c == 0\n",
    "\n",
    "print(parentesis(\"(()))\"))"
   ]
  },
  {
   "cell_type": "code",
   "execution_count": 40,
   "id": "c03db8b1",
   "metadata": {},
   "outputs": [
    {
     "name": "stdout",
     "output_type": "stream",
     "text": [
      "Ingresa una cadena de caracteres formada únicamente por paréntesis: (()))\n",
      "La cadena de datos se encuentra desbalanceada.\n"
     ]
    }
   ],
   "source": [
    "## mismo programa pero con captura de datos por usuario\n",
    "\n",
    "tex = str(input('Ingresa una cadena de caracteres formada únicamente por paréntesis: '))\n",
    "\n",
    "ap = 0\n",
    "ci = 0\n",
    "k = 0\n",
    "for k in range(len(tex)):\n",
    "    if tex[k] == '(':\n",
    "        ap += 1\n",
    "        k += 1\n",
    "    elif tex[k] == ')':\n",
    "        ci += 1\n",
    "        k += 1\n",
    "if ap == ci :\n",
    "    print('La cadena de datos se encuentra bien balanceada.')\n",
    "else:\n",
    "    print('La cadena de datos se encuentra desbalanceada.')"
   ]
  },
  {
   "cell_type": "markdown",
   "id": "1e4c6d13",
   "metadata": {},
   "source": [
    "### aquí termina la parte de cadenas de texto del curso de LL\n"
   ]
  },
  {
   "cell_type": "code",
   "execution_count": 68,
   "id": "84df49b1",
   "metadata": {},
   "outputs": [
    {
     "name": "stdout",
     "output_type": "stream",
     "text": [
      "Ingresa un número: 9\n",
      "False\n"
     ]
    }
   ],
   "source": [
    "def primo(num):\n",
    "    \n",
    "    if num <= 1:\n",
    "        return False\n",
    "    for k in range(2 , num):\n",
    "        if num % k == 0:\n",
    "            return False\n",
    "        \n",
    "    return True\n",
    "\n",
    "num = int(input('Ingresa un número: '))\n",
    "\n",
    "print(primo(num))"
   ]
  },
  {
   "cell_type": "code",
   "execution_count": 103,
   "id": "3030761d",
   "metadata": {},
   "outputs": [
    {
     "name": "stdout",
     "output_type": "stream",
     "text": [
      "numero: 2\n",
      "El factorial es: 2\n"
     ]
    }
   ],
   "source": [
    "## función que calcula factorial:\n",
    "numero = int(input('numero: '))\n",
    "factorial = 1\n",
    "\n",
    "for k in range(2, numero + 1):\n",
    "    factorial = factorial * k\n",
    "    \n",
    "print(f'El factorial es: {factorial}')"
   ]
  },
  {
   "cell_type": "code",
   "execution_count": 112,
   "id": "397b5234",
   "metadata": {},
   "outputs": [
    {
     "name": "stdout",
     "output_type": "stream",
     "text": [
      "120\n"
     ]
    }
   ],
   "source": [
    "## ahra en función:\n",
    "\n",
    "def factorial(num):\n",
    "    facto = 1\n",
    "    for k in range(2,num + 1):\n",
    "        facto = facto * k\n",
    "    return facto\n",
    "        \n",
    "print(factorial(5))"
   ]
  },
  {
   "cell_type": "code",
   "execution_count": 114,
   "id": "b1d594ab",
   "metadata": {},
   "outputs": [
    {
     "name": "stdout",
     "output_type": "stream",
     "text": [
      "120\n"
     ]
    }
   ],
   "source": [
    "## como si fuera una funcion recursiva:\n",
    "\n",
    "def factorial_rec(num):\n",
    "    if num == 1 or num == 0:\n",
    "        return 1\n",
    "    return num * factorial_rec(num - 1) \n",
    "\n",
    "## aquí por ejemplo con el 5, inicia cumpliendo la condicion para 2 y realiza el (2*(2-1))=2, luego (3*(3-1))=6\n",
    "## siendo que el rectorial rec va a contener el valor de la operacion ahcia atras\n",
    "\n",
    "print(factorial_rec(5))"
   ]
  },
  {
   "cell_type": "code",
   "execution_count": 118,
   "id": "60372296",
   "metadata": {},
   "outputs": [
    {
     "name": "stdout",
     "output_type": "stream",
     "text": [
      "numero: 6\n",
      "la suma es: 21\n"
     ]
    }
   ],
   "source": [
    "## numeros triangulares, el usuario ingresa fila,y este calcula los puntos por los que pasa\n",
    "\n",
    "n = int(input('numero: '))\n",
    "c = 0\n",
    "for k in range(1, n + 1):\n",
    "    c += k\n",
    "print(f'la suma es: {c}')"
   ]
  },
  {
   "cell_type": "code",
   "execution_count": 119,
   "id": "d81b08aa",
   "metadata": {},
   "outputs": [
    {
     "name": "stdout",
     "output_type": "stream",
     "text": [
      "10\n"
     ]
    }
   ],
   "source": [
    "## ahora en funcion:\n",
    "\n",
    "def triang(num):\n",
    "    c = 0\n",
    "    for k in range(1 , num + 1):\n",
    "        c += k\n",
    "    return c\n",
    "\n",
    "print(triang(4))"
   ]
  },
  {
   "cell_type": "markdown",
   "id": "817c109d",
   "metadata": {},
   "source": [
    "### pasamos a listas"
   ]
  },
  {
   "cell_type": "code",
   "execution_count": 128,
   "id": "6844e156",
   "metadata": {},
   "outputs": [
    {
     "name": "stdout",
     "output_type": "stream",
     "text": [
      "cuantos números tendrá la lista?5\n",
      "Ingresa el 1° número de la lista: 54\n",
      "Ingresa el 2° número de la lista: 1\n",
      "Ingresa el 3° número de la lista: 6\n",
      "Ingresa el 4° número de la lista: 8\n",
      "Ingresa el 5° número de la lista: 99\n",
      "[1, 6, 8, 54, 99]\n"
     ]
    }
   ],
   "source": [
    "def ordena(lista):\n",
    "    \n",
    "    for i in range(len(lista)):\n",
    "        for j in range(0 , len(lista) - i - 1):\n",
    "            if lista[j] > lista[j + 1]:\n",
    "                tempo = lista[j]\n",
    "                lista[j] = lista[j + 1]\n",
    "                lista[j + 1] = tempo\n",
    "                \n",
    "    return lista\n",
    "\n",
    "n = int(input('cuantos números tendrá la lista?: '))\n",
    "lista = []\n",
    "for k in range(n):\n",
    "    nn = int(input(f'Ingresa el {k + 1}° número de la lista: '))\n",
    "    lista.append(nn)\n",
    "print(ordena(lista))"
   ]
  },
  {
   "cell_type": "code",
   "execution_count": 129,
   "id": "4db5452f",
   "metadata": {},
   "outputs": [
    {
     "name": "stdout",
     "output_type": "stream",
     "text": [
      "numero de elementos en la lista: 4\n",
      "ingresa el 1 número de la lista: 22\n",
      "ingresa el 2 número de la lista: 1\n",
      "ingresa el 3 número de la lista: 55\n",
      "ingresa el 4 número de la lista: 66\n",
      "La lista ordenada es: [6, 22, 55, 66]\n"
     ]
    }
   ],
   "source": [
    "## ordenamiento burbuja\n",
    "\n",
    "##vamos a hacerlo de nuevo solo para terminar de entender el razonamiento logico detras:\n",
    "\n",
    "n = int(input('numero de elementos en la lista: '))\n",
    "l = []\n",
    "\n",
    "for k in range(n):\n",
    "    a = int(input(f'ingresa el {k + 1} número de la lista: '))\n",
    "    l.append(a)\n",
    "    \n",
    "## una vez tenemos la lista, ahora sí, ordenamos:\n",
    "\n",
    "for abner in range(n):\n",
    "    for lugo in range(n - 1):\n",
    "        if l[lugo] > l[lugo + 1]:\n",
    "            temp = l[lugo] #guardamos variable temporal\n",
    "            l[lugo] = lista[lugo + 1] #intercambiamos el sig valor\n",
    "            l[lugo + 1] = temp  #movimiento final del intercambio\n",
    "            \n",
    "print(f'La lista ordenada es: {l}')"
   ]
  },
  {
   "cell_type": "code",
   "execution_count": 135,
   "id": "1552bdc3",
   "metadata": {},
   "outputs": [
    {
     "name": "stdout",
     "output_type": "stream",
     "text": [
      "['paco', 'ana', 'javier']\n"
     ]
    }
   ],
   "source": [
    "## función que retorne elementos repetidos de una lista, si no los hay, retornar lista vacía:\n",
    "\n",
    "def encontrar_duplicados(lista):\n",
    "\n",
    "    elementos_lista = []\n",
    "    duplicados = []\n",
    "\n",
    "    for elemento in lista:\n",
    "\n",
    "        if elemento in elementos_lista:\n",
    "            duplicados.append(elemento)\n",
    "        else:\n",
    "            elementos_lista.append(elemento)\n",
    "\n",
    "    return duplicados\n",
    "\n",
    "\n",
    "print(encontrar_duplicados([\"ana\", \"paco\", \"paco\", \"emilio\", \"javier\", \"ana\",\"javier\"])) # [\"paco\", \"ana\"]\n"
   ]
  },
  {
   "cell_type": "code",
   "execution_count": 136,
   "id": "b970f12e",
   "metadata": {},
   "outputs": [
    {
     "name": "stdout",
     "output_type": "stream",
     "text": [
      "[2, 3, 4, 3, 2]\n",
      "[2, 3, 4, [2]]\n"
     ]
    }
   ],
   "source": [
    "def aplanar_lista(lista):\n",
    "\n",
    "    nueva_lista = []\n",
    "\n",
    "    for elemento in lista:\n",
    "\n",
    "        if type(elemento) is list: \n",
    "            nueva_lista.extend(elemento)\n",
    "        else:\n",
    "            nueva_lista.append(elemento)\n",
    "\n",
    "    return nueva_lista\n",
    "\n",
    "\n",
    "print(aplanar_lista([2, 3, 4, [3, 2]])) # [2, 3, 4, 3, 2]\n",
    "print(aplanar_lista([2, 3, 4, [[2]]])) # [2, 3, 4. [2]]"
   ]
  }
 ],
 "metadata": {
  "kernelspec": {
   "display_name": "Python 3 (ipykernel)",
   "language": "python",
   "name": "python3"
  },
  "language_info": {
   "codemirror_mode": {
    "name": "ipython",
    "version": 3
   },
   "file_extension": ".py",
   "mimetype": "text/x-python",
   "name": "python",
   "nbconvert_exporter": "python",
   "pygments_lexer": "ipython3",
   "version": "3.10.9"
  }
 },
 "nbformat": 4,
 "nbformat_minor": 5
}
